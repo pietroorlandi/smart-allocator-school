{
 "cells": [
  {
   "cell_type": "code",
   "execution_count": 1,
   "metadata": {},
   "outputs": [],
   "source": [
    "import pandas as pd\n",
    "import numpy as np"
   ]
  },
  {
   "cell_type": "code",
   "execution_count": 2,
   "metadata": {},
   "outputs": [],
   "source": [
    "data = pd.read_csv(\"..\\\\data\\\\rwanda_cellular_line.csv\")"
   ]
  },
  {
   "cell_type": "code",
   "execution_count": 6,
   "metadata": {},
   "outputs": [],
   "source": [
    "lat_max = -1.611821049990991\n",
    "lat_min = -1.629839068009009\n",
    "lon_max = 30.230402384974443\n",
    "lon_min = 30.212377155025553"
   ]
  },
  {
   "cell_type": "code",
   "execution_count": 8,
   "metadata": {},
   "outputs": [],
   "source": [
    "series_lat = (data['lat'] >= lat_min) & (data['lat'] <= lat_max)"
   ]
  },
  {
   "cell_type": "code",
   "execution_count": 9,
   "metadata": {},
   "outputs": [
    {
     "data": {
      "text/plain": [
       "np.int64(98)"
      ]
     },
     "execution_count": 9,
     "metadata": {},
     "output_type": "execute_result"
    }
   ],
   "source": [
    "series_lat.sum()"
   ]
  },
  {
   "cell_type": "code",
   "execution_count": 10,
   "metadata": {},
   "outputs": [],
   "source": [
    "series_lon = (data['lon'] >= lon_min) & (data['lon'] <= lon_max)"
   ]
  },
  {
   "cell_type": "code",
   "execution_count": 11,
   "metadata": {},
   "outputs": [
    {
     "data": {
      "text/plain": [
       "np.int64(77)"
      ]
     },
     "execution_count": 11,
     "metadata": {},
     "output_type": "execute_result"
    }
   ],
   "source": [
    "series_lon.sum()"
   ]
  },
  {
   "cell_type": "code",
   "execution_count": 13,
   "metadata": {},
   "outputs": [],
   "source": [
    "tot = series_lat & series_lon"
   ]
  },
  {
   "cell_type": "code",
   "execution_count": 14,
   "metadata": {},
   "outputs": [
    {
     "data": {
      "text/plain": [
       "2"
      ]
     },
     "execution_count": 14,
     "metadata": {},
     "output_type": "execute_result"
    }
   ],
   "source": [
    "sum(tot)"
   ]
  },
  {
   "cell_type": "code",
   "execution_count": 15,
   "metadata": {},
   "outputs": [
    {
     "data": {
      "text/html": [
       "<div>\n",
       "<style scoped>\n",
       "    .dataframe tbody tr th:only-of-type {\n",
       "        vertical-align: middle;\n",
       "    }\n",
       "\n",
       "    .dataframe tbody tr th {\n",
       "        vertical-align: top;\n",
       "    }\n",
       "\n",
       "    .dataframe thead th {\n",
       "        text-align: right;\n",
       "    }\n",
       "</style>\n",
       "<table border=\"1\" class=\"dataframe\">\n",
       "  <thead>\n",
       "    <tr style=\"text-align: right;\">\n",
       "      <th></th>\n",
       "      <th>radio</th>\n",
       "      <th>mcc</th>\n",
       "      <th>net</th>\n",
       "      <th>area</th>\n",
       "      <th>cell</th>\n",
       "      <th>unit</th>\n",
       "      <th>lon</th>\n",
       "      <th>lat</th>\n",
       "      <th>range</th>\n",
       "      <th>samples</th>\n",
       "      <th>changeable</th>\n",
       "      <th>created</th>\n",
       "      <th>updated</th>\n",
       "      <th>averageSignal</th>\n",
       "    </tr>\n",
       "  </thead>\n",
       "  <tbody>\n",
       "    <tr>\n",
       "      <th>2822</th>\n",
       "      <td>GSM</td>\n",
       "      <td>635</td>\n",
       "      <td>13</td>\n",
       "      <td>212</td>\n",
       "      <td>41232</td>\n",
       "      <td>-1</td>\n",
       "      <td>30.2193</td>\n",
       "      <td>-1.6258</td>\n",
       "      <td>1000</td>\n",
       "      <td>1</td>\n",
       "      <td>1</td>\n",
       "      <td>1691600180</td>\n",
       "      <td>1691600180</td>\n",
       "      <td>0</td>\n",
       "    </tr>\n",
       "    <tr>\n",
       "      <th>2827</th>\n",
       "      <td>GSM</td>\n",
       "      <td>635</td>\n",
       "      <td>13</td>\n",
       "      <td>212</td>\n",
       "      <td>49842</td>\n",
       "      <td>-1</td>\n",
       "      <td>30.2193</td>\n",
       "      <td>-1.6258</td>\n",
       "      <td>1000</td>\n",
       "      <td>1</td>\n",
       "      <td>1</td>\n",
       "      <td>1691600180</td>\n",
       "      <td>1691600180</td>\n",
       "      <td>0</td>\n",
       "    </tr>\n",
       "  </tbody>\n",
       "</table>\n",
       "</div>"
      ],
      "text/plain": [
       "     radio  mcc  net  area   cell  unit      lon     lat  range  samples  \\\n",
       "2822   GSM  635   13   212  41232    -1  30.2193 -1.6258   1000        1   \n",
       "2827   GSM  635   13   212  49842    -1  30.2193 -1.6258   1000        1   \n",
       "\n",
       "      changeable     created     updated  averageSignal  \n",
       "2822           1  1691600180  1691600180              0  \n",
       "2827           1  1691600180  1691600180              0  "
      ]
     },
     "execution_count": 15,
     "metadata": {},
     "output_type": "execute_result"
    }
   ],
   "source": [
    "data[tot]"
   ]
  },
  {
   "cell_type": "code",
   "execution_count": 19,
   "metadata": {},
   "outputs": [
    {
     "data": {
      "text/plain": [
       "0       0\n",
       "1       0\n",
       "2       0\n",
       "3       0\n",
       "4       0\n",
       "       ..\n",
       "5352    0\n",
       "5353    0\n",
       "5354    0\n",
       "5355    0\n",
       "5356    0\n",
       "Name: averageSignal, Length: 5357, dtype: int64"
      ]
     },
     "execution_count": 19,
     "metadata": {},
     "output_type": "execute_result"
    }
   ],
   "source": [
    "data['averageSignal']"
   ]
  },
  {
   "cell_type": "code",
   "execution_count": 2,
   "metadata": {},
   "outputs": [],
   "source": [
    "data = pd.read_csv(\"..\\\\data\\school_geolocations_with-connnectivity.csv\")"
   ]
  },
  {
   "cell_type": "code",
   "execution_count": 4,
   "metadata": {},
   "outputs": [],
   "source": [
    "output_columns = ['country', 'education_level', 'school_name', 'latitude', 'longitude']\n",
    "data = data[output_columns]"
   ]
  },
  {
   "cell_type": "code",
   "execution_count": 9,
   "metadata": {},
   "outputs": [],
   "source": [
    "prova = data[data['country'] == 'Rwanda'].head()"
   ]
  },
  {
   "cell_type": "code",
   "execution_count": 10,
   "metadata": {},
   "outputs": [
    {
     "data": {
      "text/html": [
       "<div>\n",
       "<style scoped>\n",
       "    .dataframe tbody tr th:only-of-type {\n",
       "        vertical-align: middle;\n",
       "    }\n",
       "\n",
       "    .dataframe tbody tr th {\n",
       "        vertical-align: top;\n",
       "    }\n",
       "\n",
       "    .dataframe thead th {\n",
       "        text-align: right;\n",
       "    }\n",
       "</style>\n",
       "<table border=\"1\" class=\"dataframe\">\n",
       "  <thead>\n",
       "    <tr style=\"text-align: right;\">\n",
       "      <th></th>\n",
       "      <th>country</th>\n",
       "      <th>education_level</th>\n",
       "      <th>school_name</th>\n",
       "      <th>latitude</th>\n",
       "      <th>longitude</th>\n",
       "    </tr>\n",
       "  </thead>\n",
       "  <tbody>\n",
       "    <tr>\n",
       "      <th>11356</th>\n",
       "      <td>Rwanda</td>\n",
       "      <td>Primary</td>\n",
       "      <td>NYUNDO</td>\n",
       "      <td>-1.830833</td>\n",
       "      <td>29.745001</td>\n",
       "    </tr>\n",
       "    <tr>\n",
       "      <th>11357</th>\n",
       "      <td>Rwanda</td>\n",
       "      <td>Secondary</td>\n",
       "      <td>GS NYAKANYINYA</td>\n",
       "      <td>-2.523944</td>\n",
       "      <td>28.922388</td>\n",
       "    </tr>\n",
       "    <tr>\n",
       "      <th>11358</th>\n",
       "      <td>Rwanda</td>\n",
       "      <td>Secondary</td>\n",
       "      <td>Kwigira TVET</td>\n",
       "      <td>-1.957444</td>\n",
       "      <td>30.435472</td>\n",
       "    </tr>\n",
       "    <tr>\n",
       "      <th>11359</th>\n",
       "      <td>Rwanda</td>\n",
       "      <td>Primary</td>\n",
       "      <td>EM KIGARAMA</td>\n",
       "      <td>-1.751667</td>\n",
       "      <td>30.382416</td>\n",
       "    </tr>\n",
       "    <tr>\n",
       "      <th>11360</th>\n",
       "      <td>Rwanda</td>\n",
       "      <td>Primary and Secondary</td>\n",
       "      <td>GS GISUNZU</td>\n",
       "      <td>-2.795830</td>\n",
       "      <td>29.722000</td>\n",
       "    </tr>\n",
       "  </tbody>\n",
       "</table>\n",
       "</div>"
      ],
      "text/plain": [
       "      country        education_level     school_name  latitude  longitude\n",
       "11356  Rwanda                Primary          NYUNDO -1.830833  29.745001\n",
       "11357  Rwanda              Secondary  GS NYAKANYINYA -2.523944  28.922388\n",
       "11358  Rwanda              Secondary    Kwigira TVET -1.957444  30.435472\n",
       "11359  Rwanda                Primary     EM KIGARAMA -1.751667  30.382416\n",
       "11360  Rwanda  Primary and Secondary      GS GISUNZU -2.795830  29.722000"
      ]
     },
     "execution_count": 10,
     "metadata": {},
     "output_type": "execute_result"
    }
   ],
   "source": [
    "prova"
   ]
  },
  {
   "cell_type": "code",
   "execution_count": 14,
   "metadata": {},
   "outputs": [
    {
     "name": "stdout",
     "output_type": "stream",
     "text": [
      "Primary\n",
      "Secondary\n",
      "Secondary\n",
      "Primary\n",
      "Primary and Secondary\n"
     ]
    }
   ],
   "source": [
    "for _, row in prova.iterrows():\n",
    "    print(row['education_level'])"
   ]
  },
  {
   "cell_type": "code",
   "execution_count": null,
   "metadata": {},
   "outputs": [],
   "source": []
  }
 ],
 "metadata": {
  "kernelspec": {
   "display_name": ".venv",
   "language": "python",
   "name": "python3"
  },
  "language_info": {
   "codemirror_mode": {
    "name": "ipython",
    "version": 3
   },
   "file_extension": ".py",
   "mimetype": "text/x-python",
   "name": "python",
   "nbconvert_exporter": "python",
   "pygments_lexer": "ipython3",
   "version": "3.11.9"
  }
 },
 "nbformat": 4,
 "nbformat_minor": 2
}
