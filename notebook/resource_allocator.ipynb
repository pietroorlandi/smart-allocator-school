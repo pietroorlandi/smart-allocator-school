{
 "cells": [
  {
   "cell_type": "code",
   "execution_count": 1,
   "metadata": {},
   "outputs": [],
   "source": [
    "#from ortools.linear_solver import pywraplp"
   ]
  },
  {
   "cell_type": "code",
   "execution_count": 11,
   "metadata": {},
   "outputs": [],
   "source": [
    "# schools_data = [\n",
    "#     {'id': 0, 'pop_density': 100, 'isolation': 0.8, 'costs': [500, 200, 400]},\n",
    "#     # {id': 1, 'pop_density': 200, 'isolation': 0.5, 'costs': [600, 250, 350]},\n",
    "#     {'id': 2, 'pop_density': 150, 'isolation': 0.3, 'costs': [700, 300, 450]},\n",
    "#     {'id': 3, 'pop_density': 120, 'isolation': 0.7, 'costs': [550, 220, 420]},\n",
    "#     {'id': 4, 'pop_density': 180, 'isolation': 0.4, 'costs': [650, 280, 430]},\n",
    "# ]"
   ]
  },
  {
   "cell_type": "code",
   "execution_count": null,
   "metadata": {},
   "outputs": [],
   "source": [
    "# budget = 1300  # Available budget\n",
    "# technologies = ['Broadband', 'Cellular', 'Satellite']  # Available technologies\n",
    "\n",
    "# # Create the MILP solver\n",
    "# solver = pywraplp.Solver.CreateSolver('SCIP')\n",
    "\n",
    "# # Decision Variables: x[i][j] = 1 if school i uses technology j, else 0\n",
    "# x = {}\n",
    "# for school in range(len(schools_data)):\n",
    "#     for tech in range(len(technologies)):\n",
    "#         x[school, tech] = solver.BoolVar(f'x_{school}_{tech}')\n",
    "\n",
    "# # Objective function: Maximize population density, minimize isolation, and minimize cost\n",
    "# objective = solver.Objective()\n",
    "# for school in range(len(schools_data)):\n",
    "#     for tech in range(len(technologies)):\n",
    "#         # Maximizing population density, minimizing isolation (lower isolation is better), and minimizing cost\n",
    "#         objective.SetCoefficient(x[school, tech], schools_data[school]['pop_density'] - 5 * schools_data[school]['isolation'] - 0.1 * schools_data[school]['costs'][tech])\n",
    "\n",
    "# objective.SetMaximization()\n",
    "\n",
    "# # Budget constraint: Total cost must not exceed the available budget\n",
    "# budget_constraint = solver.Constraint(0, budget)\n",
    "# for school in range(len(schools_data)):\n",
    "#     for tech in range(len(technologies)):\n",
    "#         budget_constraint.SetCoefficient(x[school, tech], schools_data[school]['costs'][tech])\n",
    "\n",
    "# # Each school should be connected with exactly one technology\n",
    "# for school in range(len(schools_data)):\n",
    "#     school_constraint = solver.Constraint(1, 1)\n",
    "#     for tech in range(len(technologies)):\n",
    "#         school_constraint.SetCoefficient(x[school, tech], 1)\n",
    "\n",
    "# # Solve the problem\n",
    "# status = solver.Solve()\n",
    "\n",
    "# # Output the solution\n",
    "# if status == pywraplp.Solver.OPTIMAL:\n",
    "#     print('Optimal solution found:')\n",
    "#     for school in range(len(schools_data)):\n",
    "#         for tech in range(len(technologies)):\n",
    "#             if x[school, tech].solution_value() == 1:\n",
    "#                 print(f'School {school} will be connected with {technologies[tech]}')\n",
    "# else:\n",
    "#     print('No optimal solution found.')"
   ]
  },
  {
   "cell_type": "code",
   "execution_count": null,
   "metadata": {},
   "outputs": [],
   "source": [
    "# schools_data = [\n",
    "#     {'id': 0, 'pop_density': 100, 'isolation': 0.8, 'costs': [500, 600, 400], 'reason': [\"\", \"\", \"\"]},\n",
    "#     {'id': 1, 'pop_density': 200, 'isolation': 0.5, 'costs': [600, 1200, 350], 'reason': [\"\", \"\", \"because il satellite\"]},\n",
    "#     {'id': 2, 'pop_density': 150, 'isolation': 0.3, 'costs': [700, 1100, 450], 'reason': [\"\", \"\", \"\"]},\n",
    "#     {'id': 3, 'pop_density': 120, 'isolation': 0.7, 'costs': [550, 1400, 420], 'reason': [\"\", \"\", \"\"]},\n",
    "#     {'id': 4, 'pop_density': 180, 'isolation': 0.4, 'costs': [650, 100, 430], 'reason': [\"\", \"because il cellular\", \"\"]},\n",
    "# ]\n",
    "\n",
    "# budget = 500  # Available budget\n",
    "# technologies = ['Broadband', 'Cellular', 'Satellite']  # Available technologies\n",
    "\n",
    "# # Greedy Algorithm\n",
    "# connected_schools = []\n",
    "# remaining_budget = budget\n",
    "\n",
    "# # Sort schools by population density, isolation, and cost to prioritize the best candidates\n",
    "# sorted_schools = sorted(schools_data, key=lambda x: (x['pop_density'], -x['isolation'], min(x['costs'])), reverse=True)\n",
    "\n",
    "# for school in sorted_schools:\n",
    "#     best_cost_idx = min(range(len(school['costs'])), key=school['costs'].__getitem__)\n",
    "#     cost = school['costs'][best_cost_idx]\n",
    "#     if cost <= remaining_budget:\n",
    "#         connected_schools.append({'school_id': school['id'], 'technology': technologies[best_cost_idx], 'reason': school['reason'][best_cost_idx]})\n",
    "#         remaining_budget -= cost\n",
    "\n",
    "# # Output the result\n",
    "# print(f'Schools connected with the remaining budget of {remaining_budget}:')\n",
    "# for connection in connected_schools:\n",
    "#     print(f\"School {connection['school_id']} connected with {connection['technology']}\")"
   ]
  },
  {
   "cell_type": "code",
   "execution_count": 79,
   "metadata": {},
   "outputs": [],
   "source": [
    "class ResourceAllocator:\n",
    "    def __init__(self, schools_data: list):\n",
    "        self._school_data = schools_data\n",
    "\n",
    "    def calculate_best_allocation(self, budget: float):\n",
    "        technologies = ['Broadband', 'Cellular']\n",
    "        \n",
    "        # Greedy\n",
    "        connected_schools = []\n",
    "        remaining_budget = budget\n",
    "    \n",
    "        # Sort schools by population density, isolation, and cost to prioritize the best candidates\n",
    "        sorted_schools = sorted(self._school_data, key=lambda x: (x['pop_density'], -x['isolation'], min(x['costs'])), reverse=True)\n",
    "\n",
    "        for school in sorted_schools:\n",
    "            best_cost_idx = min(range(len(school['costs'])), key=school['costs'].__getitem__)\n",
    "            cost = school['costs'][best_cost_idx]\n",
    "            if cost <= remaining_budget:\n",
    "                connected_schools.append({'school_id': school['id'], 'technology': technologies[best_cost_idx], 'reason': school['reason'][best_cost_idx], 'pop_density': school['pop_density'], 'isolation': school['isolation'], 'cost': cost})\n",
    "                remaining_budget -= cost\n",
    "\n",
    "        connected_schools.append({'remaining_budget': remaining_budget})\n",
    "\n",
    "        return connected_schools\n",
    "\n"
   ]
  },
  {
   "cell_type": "code",
   "execution_count": 82,
   "metadata": {},
   "outputs": [
    {
     "data": {
      "text/plain": [
       "[{'school_id': 1,\n",
       "  'technology': 'Broadband',\n",
       "  'reason': '',\n",
       "  'pop_density': 200,\n",
       "  'isolation': 0.5,\n",
       "  'cost': 600},\n",
       " {'school_id': 4,\n",
       "  'technology': 'Cellular',\n",
       "  'reason': 'because il cellular',\n",
       "  'pop_density': 180,\n",
       "  'isolation': 0.4,\n",
       "  'cost': 100},\n",
       " {'school_id': 2,\n",
       "  'technology': 'Broadband',\n",
       "  'reason': '',\n",
       "  'pop_density': 150,\n",
       "  'isolation': 0.3,\n",
       "  'cost': 700},\n",
       " {'remaining_budget': 100}]"
      ]
     },
     "execution_count": 82,
     "metadata": {},
     "output_type": "execute_result"
    }
   ],
   "source": [
    "schools_data = [\n",
    "    {'id': 0, 'pop_density': 100, 'isolation': 0.8, 'costs': [500, 600], 'reason': [\"\", \"\"]},\n",
    "    {'id': 1, 'pop_density': 200, 'isolation': 0.5, 'costs': [600, 1200], 'reason': [\"\", \"\"]},\n",
    "    {'id': 2, 'pop_density': 150, 'isolation': 0.3, 'costs': [700, 1100], 'reason': [\"\", \"\"]},\n",
    "    {'id': 3, 'pop_density': 120, 'isolation': 0.7, 'costs': [550, 1400], 'reason': [\"\", \"\"]},\n",
    "    {'id': 4, 'pop_density': 180, 'isolation': 0.4, 'costs': [650, 100], 'reason': [\"\", \"because il cellular\"]},\n",
    "]\n",
    "res_all = ResourceAllocator(schools_data=schools_data)\n",
    "df = res_all.calculate_best_allocation(1500)\n",
    "df"
   ]
  },
  {
   "cell_type": "code",
   "execution_count": 81,
   "metadata": {},
   "outputs": [
    {
     "name": "stdout",
     "output_type": "stream",
     "text": [
      "[{'school_id': 1, 'technology': 'Broadband', 'reason': '', 'pop_density': 200, 'isolation': 0.5, 'cost': 600}, {'school_id': 4, 'technology': 'Cellular', 'reason': 'because il cellular', 'pop_density': 180, 'isolation': 0.4, 'cost': 100}, {'school_id': 2, 'technology': 'Broadband', 'reason': '', 'pop_density': 150, 'isolation': 0.3, 'cost': 700}, {'remaining_budget': 100}]\n"
     ]
    }
   ],
   "source": [
    "print(df)"
   ]
  }
 ],
 "metadata": {
  "kernelspec": {
   "display_name": ".venv",
   "language": "python",
   "name": "python3"
  },
  "language_info": {
   "codemirror_mode": {
    "name": "ipython",
    "version": 3
   },
   "file_extension": ".py",
   "mimetype": "text/x-python",
   "name": "python",
   "nbconvert_exporter": "python",
   "pygments_lexer": "ipython3",
   "version": "3.11.9"
  }
 },
 "nbformat": 4,
 "nbformat_minor": 2
}
